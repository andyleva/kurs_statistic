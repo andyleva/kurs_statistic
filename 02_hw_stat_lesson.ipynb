{
 "cells": [
  {
   "cell_type": "markdown",
   "metadata": {},
   "source": [
    "#### Видеокурс по теории вероятностей и математической статистике (20 ноября - 30 декабря)\n",
    "Домашнее задание\n",
    "*Урок 2"
   ]
  },
  {
   "cell_type": "markdown",
   "metadata": {},
   "source": [
    "#### Задачи 1 и 2\n",
    "Контрольная работа состоит из пяти вопросов. На каждый вопрос приведено четыре варианта ответа, один из которых правильный. Случайная величина X задаёт число правильных ответов при простом угадывании. Найдите математическое ожидание данной случайной величины. Найдите дисперсию случайной величины X.\n",
    "\n",
    "Подсказка: постройте закон распределения случайной величины X.\n",
    "\n"
   ]
  },
  {
   "cell_type": "markdown",
   "metadata": {},
   "source": [
    "Вероятность ответить правильно на любой вопрос $$р=1/4$$\n",
    "\n",
    "Посчитаем вероятность каждого значения:\n",
    "$$P(X = 0) = C_n^k p^k (1 - p)^{n - k} $$"
   ]
  },
  {
   "cell_type": "code",
   "execution_count": null,
   "metadata": {},
   "outputs": [],
   "source": []
  },
  {
   "cell_type": "code",
   "execution_count": 93,
   "metadata": {},
   "outputs": [],
   "source": [
    "import numpy as np\n",
    "import pandas as pd\n",
    "from matplotlib import pyplot as plt\n",
    "\n",
    "def combinations(n: int, k: int) -> int:\n",
    "    \"\"\"Число сочетаний.\n",
    "    \"\"\"    \n",
    "    return np.math.factorial(n) // (np.math.factorial(k) * np.math.factorial(n - k))"
   ]
  },
  {
   "cell_type": "code",
   "execution_count": 94,
   "metadata": {},
   "outputs": [],
   "source": [
    "values = np.arange(0, 6)\n",
    "p=1/4 # вероятность ответа на вопрос\n",
    "n=5 # колво вопросов\n",
    "#k-количество правильных ответов"
   ]
  },
  {
   "cell_type": "code",
   "execution_count": 95,
   "metadata": {},
   "outputs": [
    {
     "data": {
      "text/plain": [
       "[0.2373046875,\n",
       " 0.3955078125,\n",
       " 0.263671875,\n",
       " 0.087890625,\n",
       " 0.0146484375,\n",
       " 0.0009765625]"
      ]
     },
     "execution_count": 95,
     "metadata": {},
     "output_type": "execute_result"
    }
   ],
   "source": [
    "probabilities=[]\n",
    "for k in np.arange(0, 6):\n",
    "    probabilities.append(combinations(n, k)*(p**k)*((1-p)**(n-k)))\n",
    "probabilities"
   ]
  },
  {
   "cell_type": "code",
   "execution_count": 96,
   "metadata": {},
   "outputs": [
    {
     "data": {
      "text/html": [
       "<div>\n",
       "<style scoped>\n",
       "    .dataframe tbody tr th:only-of-type {\n",
       "        vertical-align: middle;\n",
       "    }\n",
       "\n",
       "    .dataframe tbody tr th {\n",
       "        vertical-align: top;\n",
       "    }\n",
       "\n",
       "    .dataframe thead th {\n",
       "        text-align: right;\n",
       "    }\n",
       "</style>\n",
       "<table border=\"1\" class=\"dataframe\">\n",
       "  <thead>\n",
       "    <tr style=\"text-align: right;\">\n",
       "      <th></th>\n",
       "      <th>value</th>\n",
       "      <th>probability</th>\n",
       "    </tr>\n",
       "  </thead>\n",
       "  <tbody>\n",
       "    <tr>\n",
       "      <th>0</th>\n",
       "      <td>0</td>\n",
       "      <td>0.237305</td>\n",
       "    </tr>\n",
       "    <tr>\n",
       "      <th>1</th>\n",
       "      <td>1</td>\n",
       "      <td>0.395508</td>\n",
       "    </tr>\n",
       "    <tr>\n",
       "      <th>2</th>\n",
       "      <td>2</td>\n",
       "      <td>0.263672</td>\n",
       "    </tr>\n",
       "    <tr>\n",
       "      <th>3</th>\n",
       "      <td>3</td>\n",
       "      <td>0.087891</td>\n",
       "    </tr>\n",
       "    <tr>\n",
       "      <th>4</th>\n",
       "      <td>4</td>\n",
       "      <td>0.014648</td>\n",
       "    </tr>\n",
       "    <tr>\n",
       "      <th>5</th>\n",
       "      <td>5</td>\n",
       "      <td>0.000977</td>\n",
       "    </tr>\n",
       "  </tbody>\n",
       "</table>\n",
       "</div>"
      ],
      "text/plain": [
       "   value  probability\n",
       "0      0     0.237305\n",
       "1      1     0.395508\n",
       "2      2     0.263672\n",
       "3      3     0.087891\n",
       "4      4     0.014648\n",
       "5      5     0.000977"
      ]
     },
     "execution_count": 96,
     "metadata": {},
     "output_type": "execute_result"
    }
   ],
   "source": [
    "#постройте закон распределения случайной величины X\n",
    "z = pd.DataFrame({'value': values, 'probability': probabilities})\n",
    "z"
   ]
  },
  {
   "cell_type": "code",
   "execution_count": 97,
   "metadata": {},
   "outputs": [
    {
     "data": {
      "image/png": "[encoded data removed]",
      "text/plain": [
       "<Figure size 432x288 with 1 Axes>"
      ]
     },
     "metadata": {
      "needs_background": "light"
     },
     "output_type": "display_data"
    }
   ],
   "source": [
    "plt.plot(values, probabilities)\n",
    "plt.show()"
   ]
  },
  {
   "cell_type": "code",
   "execution_count": 98,
   "metadata": {},
   "outputs": [
    {
     "name": "stdout",
     "output_type": "stream",
     "text": [
      "1.25\n"
     ]
    }
   ],
   "source": [
    "#математическое ожидание\n",
    "m = (values * probabilities).sum()\n",
    "print(m)"
   ]
  },
  {
   "cell_type": "code",
   "execution_count": 99,
   "metadata": {},
   "outputs": [
    {
     "name": "stdout",
     "output_type": "stream",
     "text": [
      "0.9375\n"
     ]
    }
   ],
   "source": [
    "#ДИСПЕРЦИЯ\n",
    "#определим случайную величину  𝑌=𝑋−𝑀(𝑋)\n",
    "y_values = values - m\n",
    "#возведём эту величину в квадрат, тем самым получим новую случайную величину  𝑍 \n",
    "z_values = y_values ** 2\n",
    "#дисперсия случайной величины  𝑋 \n",
    "d = (z_values * probabilities).sum()\n",
    "print(d)"
   ]
  },
  {
   "cell_type": "markdown",
   "metadata": {},
   "source": [
    "#### Задача 3\n",
    "Пользователь получает в среднем 10 писем со спамом на свой почтовый ящик за сутки. Найти число N, такое, что с вероятностью 0.95 пользователь получит не более N писем со спамом за текущий день."
   ]
  },
  {
   "cell_type": "code",
   "execution_count": 100,
   "metadata": {},
   "outputs": [],
   "source": [
    "#решаем с помощью итераций\n",
    "def poisson_proba(k: int, lambda_: float) -> float:\n",
    "    \"\"\"Формула Пуассона.\n",
    "    \"\"\"    \n",
    "    return (lambda_ ** k) * (np.exp(-lambda_)) / np.math.factorial(k)"
   ]
  },
  {
   "cell_type": "code",
   "execution_count": 101,
   "metadata": {},
   "outputs": [
    {
     "name": "stdout",
     "output_type": "stream",
     "text": [
      "Ответ: N= 15\n"
     ]
    }
   ],
   "source": [
    "lambda_ = 10\n",
    "sum = 0\n",
    "n = -1\n",
    "while (sum <= 0.95):\n",
    "        n = n+1\n",
    "        sum = sum + poisson_proba(k=n, lambda_=lambda_)\n",
    "print(\"Ответ: N=\", n)"
   ]
  },
  {
   "cell_type": "markdown",
   "metadata": {},
   "source": [
    "### Задача 4\n",
    "Производятся выстрелы по мишени. Вероятность попадания в мишень при одном выстреле равна 0.01. Сколько выстрелов нужно сделать чтобы быть уверенным с вероятностью 0.9, что хотя бы 6 раз будет совершено попадание?\n",
    "\n",
    "Подсказка: 1) \"Вероятность попасть k раз при n выстрелах\" - на какое распределение это похоже? 2) А если нам нужна вероятность P(X >= k), а не P(X = k)? 3) Здесь предстоит немножко покодить."
   ]
  },
  {
   "cell_type": "code",
   "execution_count": 102,
   "metadata": {},
   "outputs": [],
   "source": [
    "# Решение.\n",
    "# число наступления события в ходе проведения N экспериментов, описывается формулой Бернулли."
   ]
  },
  {
   "cell_type": "code",
   "execution_count": 115,
   "metadata": {},
   "outputs": [
    {
     "name": "stdout",
     "output_type": "stream",
     "text": [
      "колво выстрелов = 926 при вероятности в 0.9003627121531355\n"
     ]
    }
   ],
   "source": [
    "p=0.01\n",
    "n=6\n",
    "P6=0\n",
    "\n",
    "while (P6<0.9):\n",
    "    P1to5=[]\n",
    "    for k in range(0,6):        \n",
    "        P1to5.append(combinations(n,k) * (p**k) * ((1-p)**(n-k)))\n",
    "    arr = np.array(P1to5)    \n",
    "    P6 = 1 - arr.sum()    \n",
    "    n = n + 1\n",
    "print(f\"колво выстрелов = {n-1} при вероятности в {P6}\")"
   ]
  },
  {
   "cell_type": "code",
   "execution_count": null,
   "metadata": {},
   "outputs": [],
   "source": []
  }
 ],
 "metadata": {
  "kernelspec": {
   "display_name": "Python 3",
   "language": "python",
   "name": "python3"
  },
  "language_info": {
   "codemirror_mode": {
    "name": "ipython",
    "version": 3
   },
   "file_extension": ".py",
   "mimetype": "text/x-python",
   "name": "python",
   "nbconvert_exporter": "python",
   "pygments_lexer": "ipython3",
   "version": "3.8.3"
  }
 },
 "nbformat": 4,
 "nbformat_minor": 5
}
