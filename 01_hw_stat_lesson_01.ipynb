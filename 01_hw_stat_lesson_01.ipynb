{
 "cells": [
  {
   "cell_type": "markdown",
   "id": "7cdd1eeb",
   "metadata": {},
   "source": [
    "Видеокурс по теории вероятностей и математической статистике (20 ноября - 30 декабря)\n",
    "Домашнее задание\n",
    "Урок 1"
   ]
  },
  {
   "cell_type": "markdown",
   "id": "9e93ad92",
   "metadata": {},
   "source": [
    "Задача 1\n",
    "\n",
    "Имеется колода в 52 карты. Найти число возможностей вытянуть из неё 4 карты так, чтобы среди них был хотя бы один туз."
   ]
  },
  {
   "cell_type": "markdown",
   "id": "4f206d9a",
   "metadata": {},
   "source": [
    "__Решение__\n",
    "\n",
    "Посчитаем общее число исходов ($C_{52}^4$) и вычтем из него число исходов, при которых в руке вообще не оказалось туза ($C_{48}^4$):"
   ]
  },
  {
   "cell_type": "code",
   "execution_count": 1,
   "id": "55c80daf",
   "metadata": {},
   "outputs": [],
   "source": [
    "import numpy as np\n",
    "def combinations(n: int, k: int):\n",
    "    return np.math.factorial(n) // (np.math.factorial(k) * np.math.factorial(n - k))"
   ]
  },
  {
   "cell_type": "code",
   "execution_count": 5,
   "id": "7b2c6c66",
   "metadata": {},
   "outputs": [
    {
     "data": {
      "text/plain": [
       "76145"
      ]
     },
     "execution_count": 5,
     "metadata": {},
     "output_type": "execute_result"
    }
   ],
   "source": [
    "combinations(52, 4) - combinations(48, 4)"
   ]
  },
  {
   "cell_type": "code",
   "execution_count": 9,
   "id": "acbe3451",
   "metadata": {},
   "outputs": [
    {
     "data": {
      "text/plain": [
       "76145"
      ]
     },
     "execution_count": 9,
     "metadata": {},
     "output_type": "execute_result"
    }
   ],
   "source": [
    "#или\n",
    "combinations(4,1) * combinations(48, 3)+combinations(4,2) * combinations(48, 2)+combinations(4,3) * combinations(48, 1)+combinations(4,4) * combinations(48, 0)"
   ]
  },
  {
   "cell_type": "markdown",
   "id": "a0b8db7f",
   "metadata": {},
   "source": [
    "Задачи 2 и 3\n",
    "\n",
    "Из 60 вопросов, входящих в экзаменационные билеты, студент знает 50. Случайным образом студент вытягивает 3 вопроса. "
   ]
  },
  {
   "cell_type": "markdown",
   "id": "85dba94d",
   "metadata": {},
   "source": [
    "__Какова вероятность, что все выбранные вопросы знакомы студенту?__\n",
    "\n",
    "Общее число исходов при вытягивании $3$ билетов из $60$ равно \n",
    "$C_{60}^3 = \\dfrac{60!}{3! \\cdot 57!} = \\dfrac{60 \\cdot 59 \\cdot 58}{6}$."
   ]
  },
  {
   "cell_type": "code",
   "execution_count": 15,
   "id": "d9dfa6a7",
   "metadata": {},
   "outputs": [
    {
     "data": {
      "text/plain": [
       "34220"
      ]
     },
     "execution_count": 15,
     "metadata": {},
     "output_type": "execute_result"
    }
   ],
   "source": [
    "c360=combinations(60,3)\n",
    "c360"
   ]
  },
  {
   "cell_type": "markdown",
   "id": "0f175b70",
   "metadata": {},
   "source": [
    "Число исходов, благоприятных для события «все билеты знакомые», равно \n",
    "$C_{50}^3 = \\dfrac{50 \\cdot 49 \\cdot 48}{6}$"
   ]
  },
  {
   "cell_type": "code",
   "execution_count": 16,
   "id": "5060b628",
   "metadata": {},
   "outputs": [
    {
     "data": {
      "text/plain": [
       "19600"
      ]
     },
     "execution_count": 16,
     "metadata": {},
     "output_type": "execute_result"
    }
   ],
   "source": [
    "c350=combinations(50,3)\n",
    "c350"
   ]
  },
  {
   "cell_type": "code",
   "execution_count": 17,
   "id": "ead8f149",
   "metadata": {},
   "outputs": [
    {
     "data": {
      "text/plain": [
       "0.5727644652250146"
      ]
     },
     "execution_count": 17,
     "metadata": {},
     "output_type": "execute_result"
    }
   ],
   "source": [
    "# итого верятность\n",
    "c350/c360"
   ]
  },
  {
   "cell_type": "markdown",
   "id": "ab01a79f",
   "metadata": {},
   "source": [
    "__Какова вероятность что два из трёх вопросов знакомы студенту?__\n",
    "\n",
    "Число возможностей выбрать $2$ знакомых билета (из $50$) и $1$ незнакомый билет (из $10$). Число таких исходов: \n",
    "$C_{50}^2 \\cdot C_{10}^1 $"
   ]
  },
  {
   "cell_type": "code",
   "execution_count": 20,
   "id": "100bccc6",
   "metadata": {},
   "outputs": [
    {
     "data": {
      "text/plain": [
       "12250"
      ]
     },
     "execution_count": 20,
     "metadata": {},
     "output_type": "execute_result"
    }
   ],
   "source": [
    "c250=combinations(50,2)*combinations(10,1)\n",
    "c250"
   ]
  },
  {
   "cell_type": "code",
   "execution_count": 21,
   "id": "3bf3f579",
   "metadata": {},
   "outputs": [
    {
     "data": {
      "text/plain": [
       "0.35797779076563413"
      ]
     },
     "execution_count": 21,
     "metadata": {},
     "output_type": "execute_result"
    }
   ],
   "source": [
    "#итого вероятность\n",
    "c250/c360"
   ]
  },
  {
   "cell_type": "markdown",
   "id": "8c27fa07",
   "metadata": {},
   "source": [
    "Задача 4\n",
    "\n",
    "Допустим, имеется некоторая очень редкая болезнь (поражает 0.1% населения). Вы приходите к врачу, вам делают тест на эту болезнь, и тест оказывается положительным. Врач говорит вам, что этот тест верно выявляет 99% больных этой болезнью и всего лишь в 1% случаев даёт ложный положительный ответ.\n",
    "\n",
    "Вопрос: какова вероятность, что вы действительно больны ей?\n",
    "\n",
    "Подсказка: используйте формулу Байеса с раскрытием знаменателя с помощью формулы полной вероятности."
   ]
  },
  {
   "cell_type": "markdown",
   "id": "3117472a",
   "metadata": {},
   "source": [
    "А=болен\n",
    "В=реально болен\n",
    "\n",
    "Вероятность P(B|A) = 0.99 (болен при условии болен-реально болен)\n",
    "Вероятность P(B|-A) = 0.1 (болен при условии здоров-ложно болен-ложноположительный)\n",
    "P(А) = 0.001  - всего реально заболело\n",
    "Р(-A) = 1 - 0.001 = 0.999 - всего реально здоровы\n",
    "Вероятность признания больным=\n",
    "Р(B) = Р(А|Д) * Р(Д) + Р(А|В) * Р(В) ="
   ]
  },
  {
   "cell_type": "code",
   "execution_count": 25,
   "id": "932cb5a2",
   "metadata": {},
   "outputs": [
    {
     "data": {
      "text/plain": [
       "0.01098"
      ]
     },
     "execution_count": 25,
     "metadata": {},
     "output_type": "execute_result"
    }
   ],
   "source": [
    "0.01 * 0.999 + 0.99 * 0.001"
   ]
  },
  {
   "cell_type": "markdown",
   "id": "41ee0d08",
   "metadata": {},
   "source": [
    "#вероятность, что человек реально болен по формуле Байеса => \n",
    "Р(А|B)= P(A)*P(B|A)/Р(B) = "
   ]
  },
  {
   "cell_type": "code",
   "execution_count": 26,
   "id": "4624eaf3",
   "metadata": {},
   "outputs": [
    {
     "data": {
      "text/plain": [
       "0.09016393442622951"
      ]
     },
     "execution_count": 26,
     "metadata": {},
     "output_type": "execute_result"
    }
   ],
   "source": [
    "(0.001*0.99/0.01098)"
   ]
  },
  {
   "cell_type": "code",
   "execution_count": null,
   "id": "0e950738",
   "metadata": {},
   "outputs": [],
   "source": []
  }
 ],
 "metadata": {
  "kernelspec": {
   "display_name": "Python 3",
   "language": "python",
   "name": "python3"
  },
  "language_info": {
   "codemirror_mode": {
    "name": "ipython",
    "version": 3
   },
   "file_extension": ".py",
   "mimetype": "text/x-python",
   "name": "python",
   "nbconvert_exporter": "python",
   "pygments_lexer": "ipython3",
   "version": "3.8.8"
  }
 },
 "nbformat": 4,
 "nbformat_minor": 5
}
