{
 "cells": [
  {
   "cell_type": "markdown",
   "metadata": {},
   "source": [
    "#### Видеокурс по теории вероятностей и математической статистике (20 ноября - 30 декабря)\n",
    "Домашнее задание\n",
    "\n",
    "*Урок 3"
   ]
  },
  {
   "cell_type": "markdown",
   "metadata": {},
   "source": [
    "1. Случайная непрерывная величина A имеет равномерное распределение на\n",
    "промежутке (200, 800].\n",
    "Найдите ее среднее значение и дисперсию."
   ]
  },
  {
   "cell_type": "code",
   "execution_count": 1,
   "metadata": {},
   "outputs": [
    {
     "name": "stdout",
     "output_type": "stream",
     "text": [
      "[ 8.75857579  6.88753524  5.07380176 ...  6.50984282 10.02152577\n",
      "  6.32094281]\n"
     ]
    }
   ],
   "source": [
    "import pandas as pd\n",
    "import numpy as np\n",
    "from matplotlib import pyplot as plt\n",
    "\n",
    "A = 8\n",
    "B = 2\n",
    "samples = np.random.normal(A, B, size=10000)\n",
    "print(samples)"
   ]
  },
  {
   "cell_type": "code",
   "execution_count": 2,
   "metadata": {},
   "outputs": [
    {
     "data": {
      "text/plain": [
       "(7.98441246670867, 4.106823311809051)"
      ]
     },
     "execution_count": 2,
     "metadata": {},
     "output_type": "execute_result"
    }
   ],
   "source": [
    "#средняя и дисперсия\n",
    "samples.mean(), samples.var(ddof=1)"
   ]
  },
  {
   "cell_type": "markdown",
   "metadata": {},
   "source": [
    "2. О случайной непрерывной равномерно распределенной величине B известно, что ее\n",
    "дисперсия равна 0.2.\n",
    "Можно ли найти правую границу величины B и ее среднее значение зная, что левая\n",
    "граница равна 0.5?\n",
    "Если да, найдите ее."
   ]
  },
  {
   "cell_type": "code",
   "execution_count": 3,
   "metadata": {},
   "outputs": [],
   "source": [
    "def pdf_normal(loc: float, scale: float, x: float) -> float:\n",
    "    \"\"\"Функция плотности для нормального распределения.\n",
    "    \"\"\"\n",
    "    \n",
    "    return np.exp(- ((x - loc) ** 2) / (2 * scale ** 2)) / (scale * np.sqrt(2 * np.pi))"
   ]
  },
  {
   "cell_type": "code",
   "execution_count": 4,
   "metadata": {},
   "outputs": [
    {
     "data": {
      "text/plain": [
       "[<matplotlib.lines.Line2D at 0x21e776176d0>]"
      ]
     },
     "execution_count": 4,
     "metadata": {},
     "output_type": "execute_result"
    },
    {
     "data": {
      "image/png": "[encoded data removed]",
      "text/plain": [
       "<Figure size 432x288 with 1 Axes>"
      ]
     },
     "metadata": {
      "needs_background": "light"
     },
     "output_type": "display_data"
    }
   ],
   "source": [
    "ox = np.linspace(0, 16, 1000)\n",
    "oy = np.array([pdf_normal(A, B, x) for x in ox])\n",
    "plt.hist(samples, density=True, bins=15)\n",
    "plt.plot(ox, oy, linestyle='dashed')"
   ]
  },
  {
   "cell_type": "markdown",
   "metadata": {},
   "source": [
    "формулы:\n",
    "Дисперсия:   D(X)=(B-A)^2/12\n",
    "Матожидание: M(X) = (B+A)/2\n",
    "A=    0.5\n",
    "D(X)= 0.2\n",
    "B = sqrt(12*D(X))+A"
   ]
  },
  {
   "cell_type": "code",
   "execution_count": 5,
   "metadata": {},
   "outputs": [
    {
     "data": {
      "text/plain": [
       "2.049193338482967"
      ]
     },
     "execution_count": 5,
     "metadata": {},
     "output_type": "execute_result"
    }
   ],
   "source": [
    "#B=\n",
    "A = 0.5\n",
    "D_X = 0.2\n",
    "B = (12*D_X)**0.5 + A\n",
    "B"
   ]
  },
  {
   "cell_type": "code",
   "execution_count": 6,
   "metadata": {},
   "outputs": [
    {
     "data": {
      "text/plain": [
       "1.2745966692414834"
      ]
     },
     "execution_count": 6,
     "metadata": {},
     "output_type": "execute_result"
    }
   ],
   "source": [
    "#среднее значение будет соответствовать математическому ожиданию\n",
    "M_X=(B+A)/2\n",
    "M_X"
   ]
  },
  {
   "cell_type": "markdown",
   "metadata": {},
   "source": [
    "3. Непрерывная случайная величина X распределена нормально и задана плотностью\n",
    "распределения\n",
    "f(x) = (1 / (4 * sqrt(2*pi))) * (exp(-(x+2)**2) / 32).\n",
    "Найдите:\n",
    "а). M(X)\n",
    "б). D(X)\n",
    "в). std(X) (среднее квадратичное отклонение)"
   ]
  },
  {
   "cell_type": "markdown",
   "metadata": {},
   "source": [
    "по итогам изучения лекциии <a href='https://pnu.edu.ru/media/filer_public/5b/e6/5be6e8bd-ca3d-4560-9c5e-50bd1a519738/biderman_nsv.pdf'>ЛЕКЦИЯ 6 Непрерывные случайные величины\n",
    "</a>"
   ]
  },
  {
   "cell_type": "markdown",
   "metadata": {},
   "source": [
    "f_x = (1 / (4 * sqrt(2pi))) * (exp(-(x+2)*2) / 32)\n",
    "из формулы: \n",
    "М(Х)= а = -2, \n",
    "D(X)=сигма**2=4**2=16\n",
    "Среднеквадратическое отклонение = сигма = корень(16)=4"
   ]
  },
  {
   "cell_type": "markdown",
   "metadata": {},
   "source": [
    "4. Рост взрослого населения города X имеет нормальное распределение.\n",
    "Причем, средний рост равен 174 см, а среднее квадратичное отклонение равно 8 см.\n",
    "Какова вероятность того, что случайным образом выбранный взрослый человек имеет\n",
    "рост:\n",
    "а). больше 182 см\n",
    "б). больше 190 см\n",
    "в). от 166 см до 190 см\n",
    "г). от 166 см до 182 см\n",
    "д). от 158 см до 190 см\n",
    "е). не выше 150 см или не ниже 190 см\n",
    "ё). не выше 150 см или не ниже 198 см\n",
    "ж). ниже 166 см."
   ]
  },
  {
   "cell_type": "markdown",
   "metadata": {},
   "source": [
    "расчет произведен с использованием функции Лапласа\n",
    "<a href='https://www.evkova.org/normalnyij-zakon-raspredeleniya'>ссылка на статью \"Нормальный закон распределения - определение и вычисление с примерами решения\"</a>"
   ]
  },
  {
   "cell_type": "code",
   "execution_count": 8,
   "metadata": {},
   "outputs": [
    {
     "name": "stdout",
     "output_type": "stream",
     "text": [
      "а)Вероятность, что рост больше 182 см: 0.15865525393145707\n",
      "б)Вероятность, что рост больше 190 см: 0.02275013194817921\n",
      "в)Вероятность, что рост от 166 см до 190 см: 0.8185946141203637\n",
      "г)Вероятность, что рост от 166 см до 182 см: 0.6826894921370859\n",
      "д)Вероятность, что рост от 158 см до 190 см: 0.9544997361036416\n",
      "e)Вероятность, что рост не выше 150 см или не ниже 190 см: 0.0241000299798093\n",
      "ё)Вероятность, что рост не выше 150 см или не ниже 198 см: 0.0026997960632601965\n",
      "ж)Вероятность, что рост меньше 166 см: 0.15865525393145707\n"
     ]
    }
   ],
   "source": [
    "from scipy import stats \n",
    "\n",
    "def probability (small,big):\n",
    "    Mn=174\n",
    "    scale_=8\n",
    "    return stats.norm.cdf(x=big, loc=Mn, scale=scale_) - stats.norm.cdf(x=small, loc=Mn, scale=scale_)\n",
    "\n",
    "#а) больше 182 см: P(182 < X < +inf)\n",
    "print(f'а)Вероятность, что рост больше 182 см: {probability (182,float(\"+inf\"))}')\n",
    "\n",
    "#б) больше 190 см: P(190 < X < +inf)\n",
    "print(f'б)Вероятность, что рост больше 190 см: {probability (190,float(\"+inf\"))}')\n",
    "\n",
    "#в) от 166 см до 190 см: P(166 < X < 190)\n",
    "print(f'в)Вероятность, что рост от 166 см до 190 см: {probability (166,190)}')\n",
    "\n",
    "#г) от 166 см до 182 см: P(166 < X < 182)\n",
    "print(f'г)Вероятность, что рост от 166 см до 182 см: {probability (166,182)}')\n",
    "\n",
    "#д) от 158 см до 190 см: P(158 < X < 190)\n",
    "print(f'д)Вероятность, что рост от 158 см до 190 см: {probability (158,190)}')\n",
    "\n",
    "#е) не выше 150 см или не ниже 190 см см: P(-inf < X < 150) или P(190 < X < +inf)\n",
    "print(f'e)Вероятность, что рост не выше 150 см или не ниже 190 см: {probability (float(\"-inf\"),150) + probability (190, float(\"+inf\"))}')\n",
    "\n",
    "#ё) не выше 150 см или не ниже 198 см: P(-inf < X < 150) или P(198 < X < +inf)\n",
    "print(f'ё)Вероятность, что рост не выше 150 см или не ниже 198 см: {probability (float(\"-inf\"),150) + probability (198, float(\"+inf\"))}')\n",
    "\n",
    "#ж) меньше 166 см: P(-inf < X < 166)\n",
    "print(f'ж)Вероятность, что рост меньше 166 см: {probability (float(\"-inf\"),166)}')"
   ]
  },
  {
   "cell_type": "markdown",
   "metadata": {},
   "source": [
    "5. На сколько сигм (средних квадратичных отклонений) отклоняется рост человека,\n",
    "равный 190 см, от\n",
    "математического ожидания роста в популяции, в которой M(X) = 178 см и D(X) = 25\n",
    "кв.см?"
   ]
  },
  {
   "cell_type": "markdown",
   "metadata": {},
   "source": [
    "среднеквадратичное отклонение(сигма) = Дисперсия**0,5 = 25**0,5=5 (корень из дисперсии)\n",
    "стандартное оклонение: 178-5 / 178+5 = 173/183\n",
    "правило 2 сигм: 178-5*2/178+5*2 = 168/188\n",
    "правил 3 сигм: 178-15/178+15=163/193\n",
    "т.о.рост человека в 190 см отклоняется на (190-178)/5 = 12/5 = 2,4 сигма"
   ]
  },
  {
   "cell_type": "code",
   "execution_count": null,
   "metadata": {},
   "outputs": [],
   "source": []
  }
 ],
 "metadata": {
  "kernelspec": {
   "display_name": "Python 3",
   "language": "python",
   "name": "python3"
  },
  "language_info": {
   "codemirror_mode": {
    "name": "ipython",
    "version": 3
   },
   "file_extension": ".py",
   "mimetype": "text/x-python",
   "name": "python",
   "nbconvert_exporter": "python",
   "pygments_lexer": "ipython3",
   "version": "3.8.3"
  }
 },
 "nbformat": 4,
 "nbformat_minor": 4
}
